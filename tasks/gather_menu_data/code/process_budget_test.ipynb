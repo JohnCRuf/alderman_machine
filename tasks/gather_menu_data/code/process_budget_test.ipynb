{
 "cells": [
  {
   "cell_type": "code",
   "execution_count": 16,
   "metadata": {},
   "outputs": [],
   "source": [
    "#clear all variables\n",
    "%reset -f"
   ]
  },
  {
   "cell_type": "code",
   "execution_count": 17,
   "metadata": {},
   "outputs": [
    {
     "name": "stdout",
     "output_type": "stream",
     "text": [
      "Menu Detail by Ward\n",
      "2010 Menu - Ward: 01\n",
      "CDOT\n",
      "Alley Resurface Menu Humps Blocks EstCost\n",
      "N CAMPBELL AV--W DIVERSEY AV--N MAPLEWOOD AV--W GEORGE ST 0.04 1,129\n",
      "Alley Resurface Menu 0.04 1,129\n",
      "Alley Speed Hump Menu Humps EstCost\n",
      "W POTOMAC AV--W EVERGREEN AV--N WOLCOTT AV--N MILWAUKEE AV 5 2,625\n",
      "Alley Speed Hump Menu 5 2,625\n",
      "Curb/Gutter Menu CG_Blks SW Blks EstCost\n",
      "N BELL AV-- W LE MOYNE ST (1500 N) -to- W HIRSCH ST (1400 N) 4,817\n",
      "Curb/Gutter Menu 4,817\n",
      "Curb/Gutter Menu - Change Order CG_Blks SW Blks EstCost\n",
      "1420-8 N. Bell 5,967\n",
      "Curb/Gutter Menu - Change Order 5,967\n",
      "Miscellaneous-CDOT UnitCount EstCost\n",
      "Across Damen at Erie 1.00 700\n",
      "Damen/Division/Logan Blvd/Milwaukee-multiple locations 4.00 55,300\n",
      "Miscellaneous-CDOT 5.00 56,000\n",
      "Sidewalk Menu CG_Blks SW Blks EstCost\n",
      "W BELDEN AV-- N WESTERN AV (2400 W) -to- N CAMPBELL AV (2450 W) 23,263\n",
      "W HOMER ST-- N CAMPBELL AV (2500 W) -to- N ROCKWELL ST (2600 W) 59,986\n",
      "W WABANSIA AV-- N OAKLEY AV (2300 W) -to- N OAKLEY AV (2300 W) 8,819\n",
      "Sidewalk Menu 92,068\n",
      "Printed:6/11/2013 3:24 pm c:\\deploy32\\CDOT\\CDOTMENUREPORTS\\MT_Ward_Detail.rpt x Page 1 of 3\n"
     ]
    }
   ],
   "source": [
    "import requests\n",
    "import pdfplumber\n",
    "import pandas as pd\n",
    "\n",
    "# Get the PDF\n",
    "with pdfplumber.open(\"../input/2010.pdf\") as pdf:\n",
    "    page = pdf.pages[0]\n",
    "    text = page.extract_text()\n",
    "    print(text)"
   ]
  },
  {
   "cell_type": "code",
   "execution_count": 21,
   "metadata": {},
   "outputs": [
    {
     "name": "stdout",
     "output_type": "stream",
     "text": [
      "Alley Resurface Menu\n",
      "N CAMPBELL AV--W DIVERSEY AV--N MAPLEWOOD AV--W GEORGE ST 0.04 1,129\n"
     ]
    },
    {
     "name": "stderr",
     "output_type": "stream",
     "text": [
      "/tmp/ipykernel_10122/3029872925.py:77: FutureWarning: The frame.append method is deprecated and will be removed from pandas in a future version. Use pandas.concat instead.\n",
      "  df = df.append({\"ward\": ward, \"type\": type, \"location\": location, \"cg_blks\": CG_blks, \"sw_blks\": SW_blks, \"humps\": humps, \"blocks\": blocks, \"unitcount\": unitcount, \"estcost\": estcost}, ignore_index=True)\n"
     ]
    },
    {
     "ename": "ValueError",
     "evalue": "too many values to unpack (expected 6)",
     "output_type": "error",
     "traceback": [
      "\u001b[0;31m---------------------------------------------------------------------------\u001b[0m",
      "\u001b[0;31mValueError\u001b[0m                                Traceback (most recent call last)",
      "Cell \u001b[0;32mIn[21], line 79\u001b[0m\n\u001b[1;32m     77\u001b[0m         df \u001b[39m=\u001b[39m df\u001b[39m.\u001b[39mappend({\u001b[39m\"\u001b[39m\u001b[39mward\u001b[39m\u001b[39m\"\u001b[39m: ward, \u001b[39m\"\u001b[39m\u001b[39mtype\u001b[39m\u001b[39m\"\u001b[39m: \u001b[39mtype\u001b[39m, \u001b[39m\"\u001b[39m\u001b[39mlocation\u001b[39m\u001b[39m\"\u001b[39m: location, \u001b[39m\"\u001b[39m\u001b[39mcg_blks\u001b[39m\u001b[39m\"\u001b[39m: CG_blks, \u001b[39m\"\u001b[39m\u001b[39msw_blks\u001b[39m\u001b[39m\"\u001b[39m: SW_blks, \u001b[39m\"\u001b[39m\u001b[39mhumps\u001b[39m\u001b[39m\"\u001b[39m: humps, \u001b[39m\"\u001b[39m\u001b[39mblocks\u001b[39m\u001b[39m\"\u001b[39m: blocks, \u001b[39m\"\u001b[39m\u001b[39munitcount\u001b[39m\u001b[39m\"\u001b[39m: unitcount, \u001b[39m\"\u001b[39m\u001b[39mestcost\u001b[39m\u001b[39m\"\u001b[39m: estcost}, ignore_index\u001b[39m=\u001b[39m\u001b[39mTrue\u001b[39;00m)\n\u001b[1;32m     78\u001b[0m         \u001b[39m#reset all variables to empty strings\u001b[39;00m\n\u001b[0;32m---> 79\u001b[0m         [location, CG_blks, SW_blks, humps, unitcount, estcost] \u001b[39m=\u001b[39m [\u001b[39m\"\u001b[39m\u001b[39m\"\u001b[39m]\u001b[39m*\u001b[39m\u001b[39m8\u001b[39m\n\u001b[1;32m     80\u001b[0m \u001b[39m#output the dataframe to a csv\u001b[39;00m\n\u001b[1;32m     81\u001b[0m df\u001b[39m.\u001b[39mto_csv(\u001b[39m\"\u001b[39m\u001b[39m../output/2010.csv\u001b[39m\u001b[39m\"\u001b[39m, index\u001b[39m=\u001b[39m\u001b[39mFalse\u001b[39;00m)\n",
      "\u001b[0;31mValueError\u001b[0m: too many values to unpack (expected 6)"
     ]
    }
   ],
   "source": [
    "\n",
    "df = pd.DataFrame(columns=[\"ward\", \"type\", \"location\", \"cg_blks\", \"sw_blks\", \"humps\",\"blocks\", \"unitcount\", \"estcost\"])\n",
    "gatherflag = False\n",
    "typeflag = False\n",
    "#set all variables to empty strings\n",
    "[ward, location, type, CG_blks, SW_blks, humps, unitcount, estcost] = [\"\"]*8\n",
    "variables = [ward, location, type, CG_blks, SW_blks, humps, unitcount, estcost]\n",
    "for line in text.splitlines():\n",
    "    if \"Ward\" in line:\n",
    "        ward = line.split()[-1]\n",
    "    if \"EstCost\" in line:\n",
    "        gatherflag = True\n",
    "        typeflag = True\n",
    "    if \"Printed\" in line:\n",
    "        gatherflag = False\n",
    "    elif not any(char.isdigit() for char in line):\n",
    "        gather = False   \n",
    "    #if typeflag is true, then extract the text of the line into variable type\n",
    "    if typeflag:\n",
    "        type = line\n",
    "        table_heading = line\n",
    "        #remove the strings \" CG_Blks\" \" SW Blks\" from the type variable\n",
    "        quantity_strings= [\" CG_Blks\", \" SW_Blks\", \" Humps\", \" Blocks\", \" UnitCount\", \" EstCost\"]\n",
    "        for string in quantity_strings:\n",
    "            type = type.replace(string, \"\")\n",
    "\n",
    "        typeflag = False\n",
    "    #if gatherflag is true and line doesn't contain type, then extract the last number of the line into a variable estcost\n",
    "    elif gatherflag and not type in line:\n",
    "        #assert all variables are empty strings\n",
    "        print(type)\n",
    "        assert all(var == \"\" for var in variables)\n",
    "        estcost = line.split()[-1]\n",
    "        if \"CG Blks\" in type and \"SW Blks\" in table_heading:\n",
    "            SW_blks = line.split()[-2]\n",
    "            CG_blks = line.split()[-3]\n",
    "            if not SW_blks.isdigit():\n",
    "                SW_blks = 'Missing'\n",
    "            if not CG_blks.isdigit():\n",
    "                CG_blks = 'Missing'\n",
    "            humps = 'NA'\n",
    "            blocks = 'NA'\n",
    "            unitcount = 'NA'\n",
    "        elif \"Humps\" in table_heading and \"Blocks\" in table_heading:\n",
    "            humps = line.split()[-3]\n",
    "            blocks = line.split()[-2]\n",
    "            if not blocks.isdigit():\n",
    "                blocks = 'Missing'\n",
    "            if not humps.isdigit():\n",
    "                humps = 'Missing'\n",
    "            unitcount = 'NA'\n",
    "            CG_blks = 'NA'\n",
    "            SW_blks = 'NA'\n",
    "        elif \"Humps\" in table_heading:\n",
    "            humps = line.split()[-2]\n",
    "            unitcount = 'NA'\n",
    "            CG_blks = 'NA'\n",
    "            SW_blks = 'NA'\n",
    "            blocks = 'NA'\n",
    "        elif \"Blocks\" in table_heading:\n",
    "            blocks = line.split()[-2]\n",
    "            unitcount = 'NA'\n",
    "            CG_blks = 'NA'\n",
    "            SW_blks = 'NA'\n",
    "            humps = 'NA'\n",
    "        elif \"UnitCount\" in table_heading:\n",
    "            unitcount = line.split()[-2]\n",
    "            CG_blks = 'NA'\n",
    "            SW_blks = 'NA'\n",
    "            humps = 'NA'\n",
    "            blocks = 'NA'\n",
    "        #set location equal to the line replacing all the variables with empty strings\n",
    "        location = line\n",
    "        for variable in variables:\n",
    "            location = location.replace(variable, \"\")\n",
    "        print(location)\n",
    "        #append the variables to the dataframe\n",
    "        df = df.append({\"ward\": ward, \"type\": type, \"location\": location, \"cg_blks\": CG_blks, \"sw_blks\": SW_blks, \"humps\": humps, \"blocks\": blocks, \"unitcount\": unitcount, \"estcost\": estcost}, ignore_index=True)\n",
    "        #reset all variables to empty strings\n",
    "        [location, CG_blks, SW_blks, humps, unitcount, estcost] = [\"\"]*8\n",
    "#output the dataframe to a csv\n",
    "df.to_csv(\"../output/2010.csv\", index=False)\n"
   ]
  },
  {
   "cell_type": "code",
   "execution_count": null,
   "metadata": {},
   "outputs": [],
   "source": []
  }
 ],
 "metadata": {
  "kernelspec": {
   "display_name": "Python 3.10.9 64-bit",
   "language": "python",
   "name": "python3"
  },
  "language_info": {
   "codemirror_mode": {
    "name": "ipython",
    "version": 3
   },
   "file_extension": ".py",
   "mimetype": "text/x-python",
   "name": "python",
   "nbconvert_exporter": "python",
   "pygments_lexer": "ipython3",
   "version": "3.10.9"
  },
  "orig_nbformat": 4,
  "vscode": {
   "interpreter": {
    "hash": "e7370f93d1d0cde622a1f8e1c04877d8463912d04d973331ad4851f04de6915a"
   }
  }
 },
 "nbformat": 4,
 "nbformat_minor": 2
}
